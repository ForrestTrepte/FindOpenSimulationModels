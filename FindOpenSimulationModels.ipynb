{
 "cells": [
  {
   "attachments": {},
   "cell_type": "markdown",
   "metadata": {},
   "source": [
    "# FindOpenSimulationModels\n",
    "\n",
    "An experiment to find simulation models such as FMU and Modelica files on the open internet. I am curious how prevalent they are and whether they have inputs and outputs that would be suitable for reinforcement learning environments."
   ]
  },
  {
   "cell_type": "code",
   "execution_count": 2,
   "metadata": {},
   "outputs": [],
   "source": [
    "# While developing, limit the amount of data that is downloaded.\n",
    "# Set to False when ready to download all the data.\n",
    "is_testing = True\n",
    "\n",
    "fmu_list_filename = 'results/github-fmu-search.txt'"
   ]
  },
  {
   "attachments": {},
   "cell_type": "markdown",
   "metadata": {},
   "source": [
    "## FMUs on GitHub\n",
    "\n",
    "Let's start by looking at FMU files that exist in GitHub repositories.\n",
    "\n",
    "### Manual search\n",
    "\n",
    "We can enter `extension:fmu` in the GitHub search box and choose `All GitHub', resulting in the query https://github.com/search?q=extension%3Afmu&type=code. This resulted in 10,841 code results. That's good that there are thousands of FMU files out there! However, we would need to hit the *Next* button to page through a few files at a time and manually copy their URLs from the web page.\n",
    "\n",
    "### GitHub API search\n",
    "\n",
    "Next, let's try doing this programmatically with the [GitHub search API](https://docs.github.com/en/rest/search). Unfortunately, this doesn't seem to be possible based on this [Reddit](https://www.reddit.com/r/github/comments/dr19uu/finding_all_files_with_a_certain_extension/) and [Stack Overflow](https://stackoverflow.com/questions/58673751/find-all-files-with-certain-filetype-on-github) discussion from three years ago. My results were the same.\n",
    "\n",
    "Here's what I tried (TLDR it didn't work):\n",
    "\n",
    "A **repository** search of `https://api.github.com/search/repositories?q=extension:fmu` only returns one result. It did indeed find a [repository](https://github.com/INTO-CPS-Association/distributed-maestro-fmu) that contains a [singlewatertank-20sim.fmu](https://github.com/INTO-CPS-Association/distributed-maestro-fmu/blob/95922d63eb50c17609320c180319f23d17173c7f/bundle/src/test/resources/singlewatertank-20sim.fmu) file. But there should be many more repositories. It seems that the extensions qualifier is doing something but--if it works--it is only scanning a small subset of GitHub.\n",
    "\n",
    "The [repository API doc](https://docs.github.com/en/rest/search?apiVersion=2022-11-28#search-repositories) says to see [Searching for repositories](https://docs.github.com/en/search-github/searching-on-github/searching-for-repositories) for a detailed list of qualifiers. In that documentation, [Search based on the contents of a repository](https://docs.github.com/en/search-github/searching-on-github/searching-for-repositories#search-based-on-the-contents-of-a-repository) states:\n",
    "\n",
    "> Besides using in:readme, it's not possible to find repositories by searching for specific content within the repository. To search for a specific file or content within a repository, you can use the file finder or code-specific search qualifiers.\n",
    "\n",
    "A **code** search of `https://api.github.com/search/code?q=extension:fmu` returns a `Validation Failed` error with `Must include at least one user, organization, or repository`. So it seems it is not possible to search all of GitHub in this way. In the documentation, [Considerations for code search](https://docs.github.com/en/rest/search?apiVersion=2022-11-28#considerations-for-code-search) states:\n",
    "\n",
    "> * Only files smaller than 384 KB are searchable.\n",
    "> * ...\n",
    "> * You must always include at least one search term when searching source code. For example, searching for language:go is not valid, while amazing language:go is.\n",
    "\n",
    "This will not work for FMU files because we want all of them (not just FMUs containing some particular search term), they are larger than 384 KB, and they are in a binary (zip) format that wouldn't work with a text search.\n",
    "\n",
    "In the [Reddit thread](https://www.reddit.com/r/github/comments/dr19uu/comment/f6ezx4e/?utm_source=share&utm_medium=web2x&context=3) OP Gasp0de also looked into using [GH Archive](https://www.gharchive.org/), but it it doesn't look like GH Archive includes an event type with file information about the contents of repositories/commits.\n",
    "\n",
    "### Scraping\n",
    "\n",
    "Based on the [Information Usage Restrictions](https://docs.github.com/en/site-policy/acceptable-use-policies/github-acceptable-use-policies#7-information-usage-restrictions), it appears that web scraping of GitHub is permitted:\n",
    "\n",
    "> You may use information from our Service for the following reasons, regardless of whether the information was scraped, collected through our API, or obtained otherwise:\n",
    "> \n",
    "> Researchers may use public, non-personal information from the Service for research purposes, only if any publications resulting from that research are open access.\n",
    "Archivists may use public information from the Service for archival purposes.\n",
    "\n",
    "We are researching the nature of FMU files that are present on GitHub with the intent to crate an archive or index of them, so that seems to fit. We don't expect it will be a tremendous amount of data and we won't be spamming anyone. Let's give it a try."
   ]
  },
  {
   "cell_type": "code",
   "execution_count": 2,
   "metadata": {},
   "outputs": [
    {
     "name": "stdout",
     "output_type": "stream",
     "text": [
      "Getting: https://github.com/search?q=extension%3Afmu&type=code\n",
      "Result: status code = 200, url = https://github.com/login?return_to=https%3A%2F%2Fgithub.com%2Fsearch%3Fq%3Dextension%253Afmu%26type%3Dcode\n",
      "  <title>Sign in to GitHub · GitHub</title>\n"
     ]
    }
   ],
   "source": [
    "import requests\n",
    "search_url = 'https://github.com/search?q=extension%3Afmu&type=code'\n",
    "print(f'Getting: {search_url}')\n",
    "search = requests.get(search_url)\n",
    "print(f'Result: status code = {search.status_code}, url = {search.url}')\n",
    "# print response lines containing the string <title>\n",
    "for line in search.text.splitlines():\n",
    "    if '<title>' in line:\n",
    "        print(line)"
   ]
  },
  {
   "cell_type": "code",
   "execution_count": 3,
   "metadata": {},
   "outputs": [
    {
     "name": "stdout",
     "output_type": "stream",
     "text": [
      "Opening: https://github.com/search?q=extension:fmu&type=code\n",
      "Use the web browser window to log in to GitHub...\n",
      "First page of search results loaded\n",
      "10,841 code results\n",
      "Found 100 pages of results\n",
      "Limiting to 3 pages for testing purposes\n"
     ]
    }
   ],
   "source": [
    "# It is requiring us to log in, so we won't just be able to get the results by fetching URLs. Let's try scraping the search results using browser automation.\n",
    "import ScrapeGitHubFilesByExtension\n",
    "import importlib\n",
    "importlib.reload(ScrapeGitHubFilesByExtension) # reload changes to ScrapeGitHubFilesByExtension.py every run\n",
    "# Open browser and get ready to scrape search results\n",
    "scrape = ScrapeGitHubFilesByExtension.ScrapeGitHubFilesByExtension('fmu', fmu_list_filename, is_testing)"
   ]
  },
  {
   "cell_type": "code",
   "execution_count": 4,
   "metadata": {},
   "outputs": [
    {
     "name": "stdout",
     "output_type": "stream",
     "text": [
      "Done scraping 3 pages * 4 orders\n",
      "This scan has found 0 new FMUs, 99 already known FMUs\n",
      "The entire collection now has 3872 FMUs\n",
      "\n",
      "Retries:\n",
      "  succeeded after 0 retries: 6 pages\n",
      "  succeeded after 1 retries: 3 pages\n",
      "  failed: 1 pages\n"
     ]
    }
   ],
   "source": [
    "# Page through the search results to scrape a list of FMU URLs\n",
    "# Note that, during development, this cell can be run multiple times while the logged-in browser is still open.\n",
    "scrape.scrape()"
   ]
  },
  {
   "cell_type": "code",
   "execution_count": 5,
   "metadata": {},
   "outputs": [],
   "source": [
    "# Close the browser\n",
    "del scrape"
   ]
  },
  {
   "attachments": {},
   "cell_type": "markdown",
   "metadata": {},
   "source": [
    "We weren't able to identify all of the 10,841 FMUs reported by GitHub search, but we do have 3,872. This is a good enough sampling that we will move on to take a look at these files to see if they would be suitable as reinforcement learning environments.\n",
    "\n",
    "### Downloading\n",
    "\n",
    "Next, let's download FMU files from the GitHub URLs we collected."
   ]
  },
  {
   "cell_type": "code",
   "execution_count": 6,
   "metadata": {},
   "outputs": [
    {
     "name": "stdout",
     "output_type": "stream",
     "text": [
      "Already downloaded results/downloads/AIT-IES/FMITerminalBlock/doc_user_tutorial-data_model_Sisyphus.fmu\n",
      "Already downloaded results/downloads/AIT-IES/detb-lablink-example/fmu_DHNetworkCtrl.fmu\n",
      "Already downloaded results/downloads/AIT-IES/detb-lablink-example/fmu_SingleConsumerWithBooster.fmu\n",
      "Already downloaded results/downloads/AIT-IES/detb-lablink-example/fmu_TeststandCtrl.fmu\n",
      "Already downloaded results/downloads/AIT-Lablink/lablink-fmusim/src_test_resources_zigzag.fmu\n",
      "Already downloaded results/downloads/ALSETLab/CHEETA/MATLAB_LinearizationReduction_Linearization.fmu\n",
      "Already downloaded results/downloads/ALSETLab/DrivetrainValidation/MATLAB_FMUs_Brushless_Battery.fmu\n",
      "Already downloaded results/downloads/ALSETLab/DrivetrainValidation/MATLAB_FMUs_ColdPlate_Convection.fmu\n",
      "Already downloaded results/downloads/ALSETLab/DrivetrainValidation/MATLAB_FMUs_MultiRotor_15C.fmu\n",
      "Already downloaded results/downloads/ALSETLab/DrivetrainValidation/MATLAB_FMUs_MultiRotor_ColdPlate.fmu\n",
      "Already downloaded results/downloads/ALSETLab/DrivetrainValidation/MATLAB_FMUs_MultiRotor_MachineTemp.fmu\n",
      "Already downloaded results/downloads/ALSETLab/DrivetrainValidation/MATLAB_FMUs_MultiRotor_Temp.fmu\n",
      "Already downloaded results/downloads/ALSETLab/DrivetrainValidation/MATLAB_FMUs_MultiRotor_new.fmu\n",
      "Already downloaded results/downloads/ALSETLab/DrivetrainValidation/MATLAB_FMUs_brushlees_battery2.fmu\n",
      "Already downloaded results/downloads/ALSETLab/DrivetrainValidation/MATLAB_FMUs_brushless_30soc.fmu\n",
      "Already downloaded results/downloads/ALSETLab/DrivetrainValidation/MATLAB_FMUs_brushless_40soc.fmu\n",
      "Already downloaded results/downloads/ALSETLab/DrivetrainValidation/MATLAB_FMUs_brushless_battery2.fmu\n",
      "Downloading https://raw.githubusercontent.com/ALSETLab/DrivetrainValidation/e40886d3f3d841dffcb65a2ab70e6befabf3f7d9/MATLAB/FMUs/Brushless.fmu to results/downloads/ALSETLab/DrivetrainValidation/MATLAB_FMUs_Brushless.fmu\n",
      "Downloading https://raw.githubusercontent.com/ALSETLab/DrivetrainValidation/e40886d3f3d841dffcb65a2ab70e6befabf3f7d9/MATLAB/FMUs/Brushless_Thermal.fmu to results/downloads/ALSETLab/DrivetrainValidation/MATLAB_FMUs_Brushless_Thermal.fmu\n",
      "Limiting to 2 file downloads in testing mode\n"
     ]
    }
   ],
   "source": [
    "import DownloadGitHubFiles\n",
    "import importlib\n",
    "importlib.reload(DownloadGitHubFiles) # reload changes to DownloadGitHubFiles.py every run\n",
    "download = DownloadGitHubFiles.DownloadGitHubFiles(fmu_list_filename, is_testing)\n",
    "download.download()\n",
    "del download"
   ]
  },
  {
   "attachments": {},
   "cell_type": "markdown",
   "metadata": {},
   "source": [
    "## Future Work\n",
    "\n",
    "- Statistics about FMUs (# params/inputs/outputs, OS platforms)\n",
    "- Take a closer looks at a sampling of FMUs to see if they can be understood and controlled to achieve some sort of objective\n",
    "- How to handle versioning of FMU files? The URLs are https://github.com/{username}/{repository}/blob/{commit_hash}/{file_path}. We could eventually have multiple commit hashes for different versions of the same file. Should we keep them all? Or just the latest. Also note that branch name could be used instead of commit_hash to reference the latest version in a branch. Perhaps we should convert the commit hashes to reference the latest version in the default branch?\n",
    "- There are many [limitations on GitHub code search](https://docs.github.com/en/search-github/searching-on-github/searching-code#considerations-for-code-search). What would be a better way to find files on GitHub. An archive or crawler?\n",
    "- Other file types (Modelica, MATLAB, ...?)\n",
    "- Internet search (files outside GitHub)\n",
    "- Security note (executable code in FMU files should be treated as untrusted)"
   ]
  }
 ],
 "metadata": {
  "kernelspec": {
   "display_name": "FindOpenSimulationModels",
   "language": "python",
   "name": "python3"
  },
  "language_info": {
   "codemirror_mode": {
    "name": "ipython",
    "version": 3
   },
   "file_extension": ".py",
   "mimetype": "text/x-python",
   "name": "python",
   "nbconvert_exporter": "python",
   "pygments_lexer": "ipython3",
   "version": "3.10.9"
  },
  "orig_nbformat": 4,
  "vscode": {
   "interpreter": {
    "hash": "8ee1e9661fac7e11d052fa47f33767e1ae2c17c62148570d01dc46b81a3f0767"
   }
  }
 },
 "nbformat": 4,
 "nbformat_minor": 2
}
