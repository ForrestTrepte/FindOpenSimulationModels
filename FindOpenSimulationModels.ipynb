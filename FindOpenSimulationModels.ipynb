{
 "cells": [
  {
   "attachments": {},
   "cell_type": "markdown",
   "metadata": {},
   "source": [
    "# FindOpenSimulationModels\n",
    "\n",
    "An experiment to find simulation models such as FMU and Modelica files on the open internet. I am curious how prevalent they are and whether they have inputs and outputs that would be suitable for reinforcement learning environments."
   ]
  },
  {
   "cell_type": "code",
   "execution_count": 36,
   "metadata": {},
   "outputs": [],
   "source": [
    "# While developing, limit the amount of data that is downloaded.\n",
    "# Set to False when ready to download all the data.\n",
    "is_testing = True\n",
    "\n",
    "fmu_list_filename = 'results/github-fmu-search.txt'\n",
    "import importlib"
   ]
  },
  {
   "attachments": {},
   "cell_type": "markdown",
   "metadata": {},
   "source": [
    "## FMUs on GitHub\n",
    "\n",
    "Let's start by looking at FMU files that exist in GitHub repositories.\n",
    "\n",
    "### Manual search\n",
    "\n",
    "We can enter `extension:fmu` in the GitHub search box and choose `All GitHub', resulting in the query https://github.com/search?q=extension%3Afmu&type=code. This resulted in 10,841 code results. That's good that there are thousands of FMU files out there! However, we would need to hit the *Next* button to page through a few files at a time and manually copy their URLs from the web page.\n",
    "\n",
    "### GitHub API search\n",
    "\n",
    "Next, let's try doing this programmatically with the [GitHub search API](https://docs.github.com/en/rest/search). Unfortunately, this doesn't seem to be possible based on this [Reddit](https://www.reddit.com/r/github/comments/dr19uu/finding_all_files_with_a_certain_extension/) and [Stack Overflow](https://stackoverflow.com/questions/58673751/find-all-files-with-certain-filetype-on-github) discussion from three years ago. My results were the same.\n",
    "\n",
    "Here's what I tried (TLDR it didn't work):\n",
    "\n",
    "A **repository** search of `https://api.github.com/search/repositories?q=extension:fmu` only returns one result. It did indeed find a [repository](https://github.com/INTO-CPS-Association/distributed-maestro-fmu) that contains a [singlewatertank-20sim.fmu](https://github.com/INTO-CPS-Association/distributed-maestro-fmu/blob/95922d63eb50c17609320c180319f23d17173c7f/bundle/src/test/resources/singlewatertank-20sim.fmu) file. But there should be many more repositories. It seems that the extensions qualifier is doing something but--if it works--it is only scanning a small subset of GitHub.\n",
    "\n",
    "The [repository API doc](https://docs.github.com/en/rest/search?apiVersion=2022-11-28#search-repositories) says to see [Searching for repositories](https://docs.github.com/en/search-github/searching-on-github/searching-for-repositories) for a detailed list of qualifiers. In that documentation, [Search based on the contents of a repository](https://docs.github.com/en/search-github/searching-on-github/searching-for-repositories#search-based-on-the-contents-of-a-repository) states:\n",
    "\n",
    "> Besides using in:readme, it's not possible to find repositories by searching for specific content within the repository. To search for a specific file or content within a repository, you can use the file finder or code-specific search qualifiers.\n",
    "\n",
    "A **code** search of `https://api.github.com/search/code?q=extension:fmu` returns a `Validation Failed` error with `Must include at least one user, organization, or repository`. So it seems it is not possible to search all of GitHub in this way. In the documentation, [Considerations for code search](https://docs.github.com/en/rest/search?apiVersion=2022-11-28#considerations-for-code-search) states:\n",
    "\n",
    "> * Only files smaller than 384 KB are searchable.\n",
    "> * ...\n",
    "> * You must always include at least one search term when searching source code. For example, searching for language:go is not valid, while amazing language:go is.\n",
    "\n",
    "This will not work for FMU files because we want all of them (not just FMUs containing some particular search term), they are larger than 384 KB, and they are in a binary (zip) format that wouldn't work with a text search.\n",
    "\n",
    "In the [Reddit thread](https://www.reddit.com/r/github/comments/dr19uu/comment/f6ezx4e/?utm_source=share&utm_medium=web2x&context=3) OP Gasp0de also looked into using [GH Archive](https://www.gharchive.org/), but it it doesn't look like GH Archive includes an event type with file information about the contents of repositories/commits.\n",
    "\n",
    "### Scraping\n",
    "\n",
    "Based on the [Information Usage Restrictions](https://docs.github.com/en/site-policy/acceptable-use-policies/github-acceptable-use-policies#7-information-usage-restrictions), it appears that web scraping of GitHub is permitted:\n",
    "\n",
    "> You may use information from our Service for the following reasons, regardless of whether the information was scraped, collected through our API, or obtained otherwise:\n",
    "> \n",
    "> Researchers may use public, non-personal information from the Service for research purposes, only if any publications resulting from that research are open access.\n",
    "Archivists may use public information from the Service for archival purposes.\n",
    "\n",
    "We are researching the nature of FMU files that are present on GitHub with the intent to crate an archive or index of them, so that seems to fit. We don't expect it will be a tremendous amount of data and we won't be spamming anyone. Let's give it a try."
   ]
  },
  {
   "cell_type": "code",
   "execution_count": 3,
   "metadata": {},
   "outputs": [
    {
     "name": "stdout",
     "output_type": "stream",
     "text": [
      "Getting: https://github.com/search?q=extension%3Afmu&type=code\n",
      "Result: status code = 200, url = https://github.com/login?return_to=https%3A%2F%2Fgithub.com%2Fsearch%3Fq%3Dextension%253Afmu%26type%3Dcode\n",
      "  <title>Sign in to GitHub · GitHub</title>\n"
     ]
    }
   ],
   "source": [
    "import requests\n",
    "search_url = 'https://github.com/search?q=extension%3Afmu&type=code'\n",
    "print(f'Getting: {search_url}')\n",
    "search = requests.get(search_url)\n",
    "print(f'Result: status code = {search.status_code}, url = {search.url}')\n",
    "# print response lines containing the string <title>\n",
    "for line in search.text.splitlines():\n",
    "    if '<title>' in line:\n",
    "        print(line)"
   ]
  },
  {
   "attachments": {},
   "cell_type": "markdown",
   "metadata": {},
   "source": [
    "It is requiring us to log in, so we won't just be able to get the results by fetching URLs. Let's try scraping the search results using browser automation."
   ]
  },
  {
   "cell_type": "code",
   "execution_count": 2,
   "metadata": {},
   "outputs": [
    {
     "name": "stdout",
     "output_type": "stream",
     "text": [
      "Opening: https://github.com/search?q=extension:fmu&type=code\n",
      "Use the web browser window to log in to GitHub...\n",
      "First page of search results loaded\n",
      "10,845 code results\n",
      "Found 100 pages of results\n",
      "Limiting to 3 pages in testing mode\n"
     ]
    }
   ],
   "source": [
    "# It is requiring us to log in, so we won't just be able to get the results by fetching URLs. Let's try scraping the search results using browser automation.\n",
    "import ScrapeGitHubFilesByExtension\n",
    "importlib.reload(ScrapeGitHubFilesByExtension) # reload changes to ScrapeGitHubFilesByExtension.py every run\n",
    "# Open browser and get ready to scrape search results\n",
    "scrape = ScrapeGitHubFilesByExtension.ScrapeGitHubFilesByExtension('fmu', fmu_list_filename, filter_out_private_repositories=True, is_testing=is_testing)"
   ]
  },
  {
   "cell_type": "code",
   "execution_count": 4,
   "metadata": {},
   "outputs": [
    {
     "name": "stdout",
     "output_type": "stream",
     "text": [
      "Done scraping 3 pages * 4 orders\n",
      "This scan has found 0 new FMUs, 109 already known FMUs, 1 FMUs from private repos (filtered out)\n",
      "The entire collection now has 3879 FMUs\n",
      "\n",
      "Retries:\n",
      "  succeeded after 0 retries: 9 pages\n",
      "  succeeded after 1 retries: 1 pages\n",
      "  failed: 0 pages\n"
     ]
    }
   ],
   "source": [
    "# Page through the search results to scrape a list of FMU URLs\n",
    "# Note that, during development, this cell can be run multiple times while the logged-in browser is still open.\n",
    "scrape.scrape()"
   ]
  },
  {
   "cell_type": "code",
   "execution_count": 5,
   "metadata": {},
   "outputs": [],
   "source": [
    "# Close the browser\n",
    "del scrape"
   ]
  },
  {
   "attachments": {},
   "cell_type": "markdown",
   "metadata": {},
   "source": [
    "We weren't able to identify all of the 10,841 FMUs reported by GitHub search, but we do have several thousand. This is a good enough sampling that we will move on to take a look at these files to see if they would be suitable as reinforcement learning environments.\n",
    "\n",
    "### Downloading\n",
    "\n",
    "Next, let's download FMU files from the GitHub URLs we collected."
   ]
  },
  {
   "cell_type": "code",
   "execution_count": 34,
   "metadata": {},
   "outputs": [
    {
     "name": "stdout",
     "output_type": "stream",
     "text": [
      "Done.\n",
      "0 files downloaded, 2 failed, 3877 skipped (already cached)\n",
      "Request https://raw.githubusercontent.com/microsoft/FMU-bonsai-connector/937ce984d0896681132fde209ef06048f14a5850/samples/Integrator.fmu failed: 404 - 404: Not Found\n",
      "Request https://raw.githubusercontent.com/microsoft/FMU-bonsai-connector/937ce984d0896681132fde209ef06048f14a5850/samples/vanDerPol.fmu failed: 404 - 404: Not Found\n",
      "\n"
     ]
    }
   ],
   "source": [
    "import DownloadGitHubFiles\n",
    "importlib.reload(DownloadGitHubFiles) # reload changes to DownloadGitHubFiles.py every run\n",
    "download = DownloadGitHubFiles.DownloadGitHubFiles(fmu_list_filename, is_testing)\n",
    "download.download()\n",
    "del download"
   ]
  },
  {
   "attachments": {},
   "cell_type": "markdown",
   "metadata": {},
   "source": [
    "### Analysis\n",
    "\n",
    "Now we can analyze our collection of FMU files."
   ]
  },
  {
   "cell_type": "code",
   "execution_count": 79,
   "metadata": {},
   "outputs": [
    {
     "name": "stdout",
     "output_type": "stream",
     "text": [
      "FMU file results/downloads\\AIT-IES\\detb-lablink-example\\fmu_SingleConsumerWithBooster.fmu is invalid: ModelStructure/InitialUnknowns does not contain the expected set of variables. Expected {T_return, der(singleConsumerWithBooster.demand.PID.I.y), der(singleConsumerWithBooster.demand.demandType.rad.vol[1].dynBal.U), der(singleConsumerWithBooster.demand.demandType.rad.vol[2].dynBal.U), der(singleConsumerWithBooster.demand.demandType.rad.vol[3].dynBal.U), der(singleConsumerWithBooster.demand.demandType.rad.vol[4].dynBal.U), der(singleConsumerWithBooster.demand.demandType.rad.vol[5].dynBal.U), der(singleConsumerWithBooster.demand.flowUnit.pump.filter.x[1]), der(singleConsumerWithBooster.demand.flowUnit.pump.filter.x[2]), der(singleConsumerWithBooster.demand.flowUnit.pump.vol.dynBal.U), der(singleConsumerWithBooster.fan.filter.x[1]), der(singleConsumerWithBooster.fan.filter.x[2]), der(singleConsumerWithBooster.fan.vol.dynBal.U), der(singleConsumerWithBooster.heatpump.W_effective), der(singleConsumerWithBooster.heatpump.evaporator.vol.dynBal.U), m_flow, singleConsumerWithBooster.demand.PID.I.y, singleConsumerWithBooster.demand.demandType.rad.vol[1].dynBal.U, singleConsumerWithBooster.demand.demandType.rad.vol[2].dynBal.U, singleConsumerWithBooster.demand.demandType.rad.vol[3].dynBal.U, singleConsumerWithBooster.demand.demandType.rad.vol[4].dynBal.U, singleConsumerWithBooster.demand.demandType.rad.vol[5].dynBal.U, singleConsumerWithBooster.demand.flowUnit.pump.filter.x[1], singleConsumerWithBooster.demand.flowUnit.pump.filter.x[2], singleConsumerWithBooster.demand.flowUnit.pump.vol.dynBal.U, singleConsumerWithBooster.fan.filter.x[1], singleConsumerWithBooster.fan.filter.x[2]} but was {T_return, delta_p_secondary, der(singleConsumerWithBooster.demand.PID.I.y), der(singleConsumerWithBooster.demand.demandType.rad.vol[1].dynBal.U), der(singleConsumerWithBooster.demand.demandType.rad.vol[2].dynBal.U), der(singleConsumerWithBooster.demand.demandType.rad.vol[3].dynBal.U), der(singleConsumerWithBooster.demand.demandType.rad.vol[4].dynBal.U), der(singleConsumerWithBooster.demand.demandType.rad.vol[5].dynBal.U), der(singleConsumerWithBooster.demand.flowUnit.pump.filter.x[1]), der(singleConsumerWithBooster.demand.flowUnit.pump.filter.x[2]), der(singleConsumerWithBooster.demand.flowUnit.pump.vol.dynBal.U), der(singleConsumerWithBooster.fan.filter.x[1]), der(singleConsumerWithBooster.fan.filter.x[2]), der(singleConsumerWithBooster.fan.vol.dynBal.U), der(singleConsumerWithBooster.heatpump.W_effective), der(singleConsumerWithBooster.heatpump.evaporator.vol.dynBal.U), m_flow, singleConsumerWithBooster.demand.PID.I.y, singleConsumerWithBooster.demand.demandType.rad.vol[1].dynBal.U, singleConsumerWithBooster.demand.demandType.rad.vol[2].dynBal.U, singleConsumerWithBooster.demand.demandType.rad.vol[3].dynBal.U, singleConsumerWithBooster.demand.demandType.rad.vol[4].dynBal.U, singleConsumerWithBooster.demand.demandType.rad.vol[5].dynBal.U, singleConsumerWithBooster.demand.flowUnit.pump.filter.x[1], singleConsumerWithBooster.demand.flowUnit.pump.filter.x[2], singleConsumerWithBooster.demand.flowUnit.pump.vol.dynBal.U, singleConsumerWithBooster.fan.filter.x[1], singleConsumerWithBooster.fan.filter.x[2]}.\n",
      "Limiting to 5 files in testing mode\n",
      "4 valid FMUs, 1 invalid FMUs\n"
     ]
    },
    {
     "data": {
      "text/html": [
       "<div>\n",
       "<style scoped>\n",
       "    .dataframe tbody tr th:only-of-type {\n",
       "        vertical-align: middle;\n",
       "    }\n",
       "\n",
       "    .dataframe tbody tr th {\n",
       "        vertical-align: top;\n",
       "    }\n",
       "\n",
       "    .dataframe thead th {\n",
       "        text-align: right;\n",
       "    }\n",
       "</style>\n",
       "<table border=\"1\" class=\"dataframe\">\n",
       "  <thead>\n",
       "    <tr style=\"text-align: right;\">\n",
       "      <th></th>\n",
       "      <th>Filename</th>\n",
       "      <th>Valid</th>\n",
       "      <th>Invalid Reason</th>\n",
       "      <th>FMI Version</th>\n",
       "      <th>Co-Simulation</th>\n",
       "      <th>Model Exchange</th>\n",
       "      <th>Param Count</th>\n",
       "      <th>Input Count</th>\n",
       "      <th>Output Count</th>\n",
       "      <th>Generation Tool</th>\n",
       "    </tr>\n",
       "  </thead>\n",
       "  <tbody>\n",
       "    <tr>\n",
       "      <th>0</th>\n",
       "      <td>results/downloads\\addicted-by\\predictive_analy...</td>\n",
       "      <td>True</td>\n",
       "      <td></td>\n",
       "      <td>2.0</td>\n",
       "      <td>True</td>\n",
       "      <td>True</td>\n",
       "      <td>56.0</td>\n",
       "      <td>0.0</td>\n",
       "      <td>0.0</td>\n",
       "      <td>OpenModelica Compiler OpenModelica v1.18.1 (64...</td>\n",
       "    </tr>\n",
       "    <tr>\n",
       "      <th>1</th>\n",
       "      <td>results/downloads\\AIT-IES\\detb-lablink-example...</td>\n",
       "      <td>True</td>\n",
       "      <td></td>\n",
       "      <td>2.0</td>\n",
       "      <td>True</td>\n",
       "      <td>True</td>\n",
       "      <td>0.0</td>\n",
       "      <td>2.0</td>\n",
       "      <td>3.0</td>\n",
       "      <td>Dymola Version 2020x (64-bit), 2019-10-10</td>\n",
       "    </tr>\n",
       "    <tr>\n",
       "      <th>2</th>\n",
       "      <td>results/downloads\\AIT-IES\\detb-lablink-example...</td>\n",
       "      <td>True</td>\n",
       "      <td>False</td>\n",
       "      <td>&lt;NA&gt;</td>\n",
       "      <td>NaN</td>\n",
       "      <td>NaN</td>\n",
       "      <td>NaN</td>\n",
       "      <td>NaN</td>\n",
       "      <td>NaN</td>\n",
       "      <td>&lt;NA&gt;</td>\n",
       "    </tr>\n",
       "    <tr>\n",
       "      <th>3</th>\n",
       "      <td>results/downloads\\AIT-IES\\detb-lablink-example...</td>\n",
       "      <td>True</td>\n",
       "      <td></td>\n",
       "      <td>2.0</td>\n",
       "      <td>True</td>\n",
       "      <td>True</td>\n",
       "      <td>3.0</td>\n",
       "      <td>6.0</td>\n",
       "      <td>3.0</td>\n",
       "      <td>Dymola Version 2020x (64-bit), 2019-10-10</td>\n",
       "    </tr>\n",
       "    <tr>\n",
       "      <th>4</th>\n",
       "      <td>results/downloads\\AIT-IES\\FMITerminalBlock\\doc...</td>\n",
       "      <td>True</td>\n",
       "      <td></td>\n",
       "      <td>1.0</td>\n",
       "      <td>False</td>\n",
       "      <td>True</td>\n",
       "      <td>6.0</td>\n",
       "      <td>1.0</td>\n",
       "      <td>3.0</td>\n",
       "      <td>OpenModelica Compiler OpenModelica v1.11.0 (32...</td>\n",
       "    </tr>\n",
       "  </tbody>\n",
       "</table>\n",
       "</div>"
      ],
      "text/plain": [
       "                                            Filename  Valid Invalid Reason  \\\n",
       "0  results/downloads\\addicted-by\\predictive_analy...   True                  \n",
       "1  results/downloads\\AIT-IES\\detb-lablink-example...   True                  \n",
       "2  results/downloads\\AIT-IES\\detb-lablink-example...   True          False   \n",
       "3  results/downloads\\AIT-IES\\detb-lablink-example...   True                  \n",
       "4  results/downloads\\AIT-IES\\FMITerminalBlock\\doc...   True                  \n",
       "\n",
       "  FMI Version Co-Simulation Model Exchange  Param Count  Input Count  \\\n",
       "0         2.0          True           True         56.0          0.0   \n",
       "1         2.0          True           True          0.0          2.0   \n",
       "2        <NA>           NaN            NaN          NaN          NaN   \n",
       "3         2.0          True           True          3.0          6.0   \n",
       "4         1.0         False           True          6.0          1.0   \n",
       "\n",
       "   Output Count                                    Generation Tool  \n",
       "0           0.0  OpenModelica Compiler OpenModelica v1.18.1 (64...  \n",
       "1           3.0          Dymola Version 2020x (64-bit), 2019-10-10  \n",
       "2           NaN                                               <NA>  \n",
       "3           3.0          Dymola Version 2020x (64-bit), 2019-10-10  \n",
       "4           3.0  OpenModelica Compiler OpenModelica v1.11.0 (32...  "
      ]
     },
     "metadata": {},
     "output_type": "display_data"
    },
    {
     "data": {
      "text/plain": [
       "Filename            string\n",
       "Valid                 bool\n",
       "Invalid Reason      string\n",
       "FMI Version         string\n",
       "Co-Simulation       object\n",
       "Model Exchange      object\n",
       "Param Count        float64\n",
       "Input Count        float64\n",
       "Output Count       float64\n",
       "Generation Tool     string\n",
       "dtype: object"
      ]
     },
     "metadata": {},
     "output_type": "display_data"
    }
   ],
   "source": [
    "import AnalyzeFmuFiles\n",
    "importlib.reload(AnalyzeFmuFiles) # reload changes to AnalyzeFmuFiles.py every run\n",
    "import pandas\n",
    "analyze = AnalyzeFmuFiles.AnalyzeFmuFiles('results/downloads', is_testing)\n",
    "df = analyze.analyze()\n",
    "df.to_csv('results/github-fmu-analysis.csv', index=False)\n",
    "display(df)\n",
    "display(df.dtypes)"
   ]
  },
  {
   "attachments": {},
   "cell_type": "markdown",
   "metadata": {},
   "source": [
    "## Future Work\n",
    "\n",
    "- Statistics about FMUs (# params/inputs/outputs, OS platforms)\n",
    "- Take a closer looks at a sampling of FMUs to see if they can be understood and controlled to achieve some sort of objective\n",
    "- How to handle versioning of FMU files? The URLs are https://github.com/{username}/{repository}/blob/{commit_hash}/{file_path}. We could eventually have multiple commit hashes for different versions of the same file. Should we keep them all? Or just the latest. Also note that branch name could be used instead of commit_hash to reference the latest version in a branch. Perhaps we should convert the commit hashes to reference the latest version in the default branch?\n",
    "- There are many [limitations on GitHub code search](https://docs.github.com/en/search-github/searching-on-github/searching-code#considerations-for-code-search). What would be a better way to find files on GitHub. An archive or crawler?\n",
    "- Other file types (Modelica, MATLAB, ...?)\n",
    "- Internet search (files outside GitHub)\n",
    "- Security note (executable code in FMU files should be treated as untrusted)"
   ]
  }
 ],
 "metadata": {
  "kernelspec": {
   "display_name": "FindOpenSimulationModels",
   "language": "python",
   "name": "python3"
  },
  "language_info": {
   "codemirror_mode": {
    "name": "ipython",
    "version": 3
   },
   "file_extension": ".py",
   "mimetype": "text/x-python",
   "name": "python",
   "nbconvert_exporter": "python",
   "pygments_lexer": "ipython3",
   "version": "3.10.9"
  },
  "orig_nbformat": 4,
  "vscode": {
   "interpreter": {
    "hash": "8ee1e9661fac7e11d052fa47f33767e1ae2c17c62148570d01dc46b81a3f0767"
   }
  }
 },
 "nbformat": 4,
 "nbformat_minor": 2
}
